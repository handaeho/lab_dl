{
  "nbformat": 4,
  "nbformat_minor": 0,
  "metadata": {
    "colab": {
      "name": "ex02_MNIST_CNN.ipynb",
      "provenance": []
    },
    "kernelspec": {
      "name": "python3",
      "display_name": "Python 3"
    },
    "accelerator": "GPU"
  },
  "cells": [
    {
      "cell_type": "markdown",
      "metadata": {
        "id": "9oYxtgUwmlLg",
        "colab_type": "text"
      },
      "source": [
        "Colab에서 GPU 연산 사용\n",
        "~> 메뉴 > 수정 > 노트 설정 > 하드웨어 가속기 > GPU\n",
        "\n",
        "\n",
        "Tensorflow를 사용한 MNIST 데이터 분류 예측 "
      ]
    },
    {
      "cell_type": "code",
      "metadata": {
        "id": "FyRmN7vLihaI",
        "colab_type": "code",
        "colab": {
          "base_uri": "https://localhost:8080/",
          "height": 71
        },
        "outputId": "a84ecaad-e288-4e4d-82e4-6760960c2059"
      },
      "source": [
        "# Tensorflow 버전 선택\n",
        "%tensorflow_version 2.x\n",
        "\n",
        "# Tensorflow 버전과 GPU 사용 여부 확인\n",
        "import tensorflow as tf\n",
        "\n",
        "print(tf.__version__)\n",
        "print(tf.test.gpu_device_name())"
      ],
      "execution_count": 1,
      "outputs": [
        {
          "output_type": "stream",
          "text": [
            "TensorFlow 2.x selected.\n",
            "2.1.0-rc1\n",
            "/device:GPU:0\n"
          ],
          "name": "stdout"
        }
      ]
    },
    {
      "cell_type": "code",
      "metadata": {
        "id": "au_tCng2nSTz",
        "colab_type": "code",
        "colab": {}
      },
      "source": [
        "# 클래스와 모듈 import\n",
        "import os\n",
        "import numpy as np\n",
        "import matplotlib.pyplot as plt\n",
        "\n",
        "from tensorflow.keras import Sequential\n",
        "from tensorflow.keras.datasets import mnist\n",
        "from tensorflow.keras.layers import Conv2D, MaxPool2D, Dropout, Flatten, Dense\n",
        "from tensorflow.keras.utils import to_categorical\n",
        "\n",
        "# EarlyStopping ~> 모델 최적화 \n",
        "# epoch를 반복할 때, 일정 epoch 동안 성능 향상이 없으면, 자동으로 학습 중단(epoch 중단)\n",
        "from tensorflow.keras.callbacks import EarlyStopping, ModelCheckpoint"
      ],
      "execution_count": 0,
      "outputs": []
    },
    {
      "cell_type": "code",
      "metadata": {
        "id": "bm_5NqF7oFYY",
        "colab_type": "code",
        "colab": {
          "base_uri": "https://localhost:8080/",
          "height": 53
        },
        "outputId": "b7bce9f2-cd3e-4175-d451-32f247472828"
      },
      "source": [
        "# MNIST 데이터 load, 확인\n",
        "(X_train, Y_train), (X_test, Y_test) = mnist.load_data()\n",
        "print(f'X_train shape: {X_train.shape}, Y_train shape: {Y_train.shape}')\n",
        "print(f'X_test shape: {X_test.shape}, Y_test shape: {Y_test.shape}')"
      ],
      "execution_count": 3,
      "outputs": [
        {
          "output_type": "stream",
          "text": [
            "X_train shape: (60000, 28, 28), Y_train shape: (60000,)\n",
            "X_test shape: (10000, 28, 28), Y_test shape: (10000,)\n"
          ],
          "name": "stdout"
        }
      ]
    },
    {
      "cell_type": "code",
      "metadata": {
        "id": "Ecg4sBGgpooF",
        "colab_type": "code",
        "colab": {
          "base_uri": "https://localhost:8080/",
          "height": 89
        },
        "outputId": "29880d58-a4ca-4eb2-fe41-8de0f96c7f90"
      },
      "source": [
        "# MNIST 데이터를 CNN의 입력 데이터로 사용할 수 있도록 shape 변환\n",
        "\n",
        "# X_train, X_test = (samples, h, w, 1) \n",
        "# ~> samples: 데이터 개수, h: height, w:width\n",
        "n, h, w = X_train.shape \n",
        "X_train = X_train.reshape(*X_train.shape, 1)\n",
        "X_test = X_test.reshape(*X_test.shape, 1)\n",
        "\n",
        "print('X_train reshape: ', X_train.shape)\n",
        "print('X_test reshape: ', X_test.shape)\n",
        "\n",
        "# Y_train, Y_test ~> one_hot_encoding\n",
        "Y_train = to_categorical(Y_train, 10, dtype='float16') \n",
        "Y_test = to_categorical(Y_test, 10, dtype='float16')\n",
        "\n",
        "print('Y_train[0]: ', Y_train[0])\n",
        "print('Y_test[0]: ', Y_test[0])"
      ],
      "execution_count": 4,
      "outputs": [
        {
          "output_type": "stream",
          "text": [
            "X_train reshape:  (60000, 28, 28, 1)\n",
            "X_test reshape:  (10000, 28, 28, 1)\n",
            "Y_train[0]:  [0. 0. 0. 0. 0. 1. 0. 0. 0. 0.]\n",
            "Y_test[0]:  [0. 0. 0. 0. 0. 0. 0. 1. 0. 0.]\n"
          ],
          "name": "stdout"
        }
      ]
    },
    {
      "cell_type": "code",
      "metadata": {
        "id": "nEnMeSZIr89v",
        "colab_type": "code",
        "colab": {}
      },
      "source": [
        "# 이미지 데이터는 0~255 사이의 값들로 저장되어 있다. \n",
        "# 신경망에 보낼 때는 정규화된 값 (0. ~ 1.) 으로 보내면 더 좋은 성능 기대 가능\n",
        "\n",
        "# X_train, X_test를 0 ~ 1 사이의 값으로 정규화\n",
        "X_train = X_train.astype('float16') / 255\n",
        "X_test = X_test.astype('float16') / 255"
      ],
      "execution_count": 0,
      "outputs": []
    },
    {
      "cell_type": "code",
      "metadata": {
        "id": "HqGLcprttXC5",
        "colab_type": "code",
        "colab": {}
      },
      "source": [
        "# 신경망 모델 생성 -> Sequential 클래스 객체(인스턴스) 생성\n",
        "model = Sequential()"
      ],
      "execution_count": 0,
      "outputs": []
    },
    {
      "cell_type": "code",
      "metadata": {
        "id": "HbijGVs9tnEC",
        "colab_type": "code",
        "colab": {}
      },
      "source": [
        "# 교재 P.250 그림 7-23 참고\n",
        "\n",
        "# 신경망 모델에 hidden_layer, output_layer 추가\n",
        "# 구성: Conv2D -> MaxPool2D -> Flatten -> Dense -> Dense(output_layer)\n",
        "# Conv2D의 활성화 함수는 'ReLU'\n",
        "# Dense의 활성화 함수는 'ReLU(hidden_layer)', 'Softmax(output_layer)'\n",
        "\n",
        "model.add(Conv2D(filters=32, # filter 개수\n",
        "                 kernel_size=(3, 3), # filter의 height, width\n",
        "                 activation='relu',  # 활성화 함수\n",
        "                 input_shape=(28, 28, 1))) # 입력 데이터 shape\n",
        "\n",
        "model.add(MaxPool2D(pool_size=2)) # pooling window의 height, width와 stride를 모두 2로\n",
        "\n",
        "# Affine에 적용 위해 flatten()\n",
        "model.add(Flatten())\n",
        "\n",
        "# Fully-Connection hidden_layer\n",
        "model.add(Dense(128, # hidden_layer의 뉴런 수\n",
        "                activation='relu')) # 활성화 함수\n",
        "\n",
        "# Output_layer\n",
        "model.add(Dense(10, \n",
        "                activation='softmax'))"
      ],
      "execution_count": 0,
      "outputs": []
    },
    {
      "cell_type": "code",
      "metadata": {
        "id": "FlfKpcBQxwMy",
        "colab_type": "code",
        "colab": {}
      },
      "source": [
        "# 신경망 모델 컴파일\n",
        "model.compile(loss='categorical_crossentropy', # 분류 문제이므로 loss는 카테고리\n",
        "              optimizer='adam', # 파라미터 최적화 알고리즘\n",
        "              metrics=['accuracy']) # 성과의 지표"
      ],
      "execution_count": 0,
      "outputs": []
    },
    {
      "cell_type": "code",
      "metadata": {
        "id": "RW3Sng9502OL",
        "colab_type": "code",
        "colab": {
          "base_uri": "https://localhost:8080/",
          "height": 757
        },
        "outputId": "cb842d2a-3407-4f46-9268-8fd1fa81e74d"
      },
      "source": [
        "# patience(일정 epoch)동안 loss의 변화가 없으면(성능 향상이 없으면) 자동으로 stop\n",
        "early_stop = EarlyStopping(monitor='val_loss', verbose=1, patience=10)\n",
        "\n",
        "# 신경망 학습 진행\n",
        "history = model.fit(X_train, Y_train, # 학습할 데이터\n",
        "                    batch_size=200, epochs=50, # batch_size와 학습 반복 횟수\n",
        "                    verbose=1, # 학습 중 출력되는 문구\n",
        "                    callbacks=[early_stop], # 학습 과정과 변화 모니터링\n",
        "                    validation_data=(X_test, Y_test)) # 학습 결과를 평가할 데이터 "
      ],
      "execution_count": 15,
      "outputs": [
        {
          "output_type": "stream",
          "text": [
            "Train on 60000 samples, validate on 10000 samples\n",
            "Epoch 1/50\n",
            "60000/60000 [==============================] - 9s 146us/sample - loss: 0.2700 - accuracy: 0.9228 - val_loss: 0.1085 - val_accuracy: 0.9676\n",
            "Epoch 2/50\n",
            "60000/60000 [==============================] - 1s 25us/sample - loss: 0.0819 - accuracy: 0.9757 - val_loss: 0.0622 - val_accuracy: 0.9800\n",
            "Epoch 3/50\n",
            "60000/60000 [==============================] - 1s 25us/sample - loss: 0.0539 - accuracy: 0.9837 - val_loss: 0.0524 - val_accuracy: 0.9825\n",
            "Epoch 4/50\n",
            "60000/60000 [==============================] - 1s 25us/sample - loss: 0.0413 - accuracy: 0.9877 - val_loss: 0.0491 - val_accuracy: 0.9825\n",
            "Epoch 5/50\n",
            "60000/60000 [==============================] - 2s 25us/sample - loss: 0.0321 - accuracy: 0.9906 - val_loss: 0.0453 - val_accuracy: 0.9843\n",
            "Epoch 6/50\n",
            "60000/60000 [==============================] - 1s 25us/sample - loss: 0.0256 - accuracy: 0.9925 - val_loss: 0.0409 - val_accuracy: 0.9855\n",
            "Epoch 7/50\n",
            "60000/60000 [==============================] - 1s 24us/sample - loss: 0.0200 - accuracy: 0.9942 - val_loss: 0.0455 - val_accuracy: 0.9856\n",
            "Epoch 8/50\n",
            "60000/60000 [==============================] - 1s 24us/sample - loss: 0.0167 - accuracy: 0.9950 - val_loss: 0.0438 - val_accuracy: 0.9849\n",
            "Epoch 9/50\n",
            "60000/60000 [==============================] - 1s 24us/sample - loss: 0.0125 - accuracy: 0.9966 - val_loss: 0.0401 - val_accuracy: 0.9864\n",
            "Epoch 10/50\n",
            "60000/60000 [==============================] - 1s 24us/sample - loss: 0.0094 - accuracy: 0.9974 - val_loss: 0.0433 - val_accuracy: 0.9860\n",
            "Epoch 11/50\n",
            "60000/60000 [==============================] - 1s 24us/sample - loss: 0.0090 - accuracy: 0.9977 - val_loss: 0.0406 - val_accuracy: 0.9874\n",
            "Epoch 12/50\n",
            "60000/60000 [==============================] - 1s 24us/sample - loss: 0.0062 - accuracy: 0.9987 - val_loss: 0.0432 - val_accuracy: 0.9860\n",
            "Epoch 13/50\n",
            "60000/60000 [==============================] - 1s 24us/sample - loss: 0.0043 - accuracy: 0.9991 - val_loss: 0.0440 - val_accuracy: 0.9871\n",
            "Epoch 14/50\n",
            "60000/60000 [==============================] - 1s 24us/sample - loss: 0.0047 - accuracy: 0.9987 - val_loss: 0.0514 - val_accuracy: 0.9854\n",
            "Epoch 15/50\n",
            "60000/60000 [==============================] - 1s 24us/sample - loss: 0.0047 - accuracy: 0.9986 - val_loss: 0.0466 - val_accuracy: 0.9881\n",
            "Epoch 16/50\n",
            "60000/60000 [==============================] - 1s 24us/sample - loss: 0.0034 - accuracy: 0.9992 - val_loss: 0.0498 - val_accuracy: 0.9864\n",
            "Epoch 17/50\n",
            "60000/60000 [==============================] - 1s 24us/sample - loss: 0.0025 - accuracy: 0.9995 - val_loss: 0.0462 - val_accuracy: 0.9875\n",
            "Epoch 18/50\n",
            "60000/60000 [==============================] - 1s 24us/sample - loss: 0.0022 - accuracy: 0.9994 - val_loss: 0.0521 - val_accuracy: 0.9865\n",
            "Epoch 19/50\n",
            "60000/60000 [==============================] - 1s 24us/sample - loss: 0.0045 - accuracy: 0.9987 - val_loss: 0.0600 - val_accuracy: 0.9852\n",
            "Epoch 00019: early stopping\n"
          ],
          "name": "stdout"
        }
      ]
    },
    {
      "cell_type": "code",
      "metadata": {
        "id": "w3QVKU313Acs",
        "colab_type": "code",
        "colab": {
          "base_uri": "https://localhost:8080/",
          "height": 53
        },
        "outputId": "13b53bb3-4774-48af-adaa-9a7a87bbe28c"
      },
      "source": [
        "# 테스트 데이터로 모델 학습 평가 -> loss, accuracy\n",
        "eval = model.evaluate(X_test, Y_test)\n",
        "print(f'Test Loss: {eval[0]}, Test Accuracy: {eval[1]}')"
      ],
      "execution_count": 17,
      "outputs": [
        {
          "output_type": "stream",
          "text": [
            "10000/10000 [==============================] - 1s 86us/sample - loss: 0.0600 - accuracy: 0.9852\n",
            "Test Loss: 0.05997641257862463, Test Accuracy: 0.9851999878883362\n"
          ],
          "name": "stdout"
        }
      ]
    },
    {
      "cell_type": "code",
      "metadata": {
        "id": "3WKZeaRm4vNp",
        "colab_type": "code",
        "colab": {
          "base_uri": "https://localhost:8080/",
          "height": 279
        },
        "outputId": "4b570044-59ae-4806-c628-a6d32afd2493"
      },
      "source": [
        "# 학습 데이터와 테스트 데이터의 Loss 그래프 \n",
        "\n",
        "# 학습 데이터 셋의 Loss\n",
        "train_loss = history.history['loss']\n",
        "\n",
        "# 테스트 데이터 셋의 Loss\n",
        "test_loss = history.history['val_loss']\n",
        "\n",
        "x = range(len(train_loss))\n",
        "plt.plot(x, train_loss, marker='.', color='red', label='Train Loss')\n",
        "plt.plot(x, test_loss, marker='.', color='blue', label='Test Loss')\n",
        "plt.xlabel('Epochs')\n",
        "plt.ylabel('Loss')\n",
        "plt.legend()\n",
        "plt.show()"
      ],
      "execution_count": 18,
      "outputs": [
        {
          "output_type": "display_data",
          "data": {
            "image/png": "[encoded data removed]",
            "text/plain": [
              "<Figure size 432x288 with 1 Axes>"
            ]
          },
          "metadata": {
            "tags": []
          }
        }
      ]
    },
    {
      "cell_type": "code",
      "metadata": {
        "id": "Ai0jgNKY6Xt2",
        "colab_type": "code",
        "colab": {
          "base_uri": "https://localhost:8080/",
          "height": 279
        },
        "outputId": "2a83cdf0-2c7e-4cb7-93ce-46f36244d528"
      },
      "source": [
        "# 학습 데이터와 테스트 데이터의 Accuracy 그래프\n",
        "\n",
        "# 학습 데이터의 Accuracy\n",
        "train_acc = history.history['accuracy']\n",
        "\n",
        "# 테스트 데이터의 Accuracy\n",
        "test_acc = history.history['val_accuracy']\n",
        "\n",
        "x = range(len(train_acc))\n",
        "plt.plot(x, train_acc, marker='.', color='red', label='Train Accuracy')\n",
        "plt.plot(x, test_acc, marker='.', color='blue', label='Test Accuracy')\n",
        "plt.xlabel('Epochs')\n",
        "plt.ylabel('Accuracy')\n",
        "plt.legend()\n",
        "plt.show()"
      ],
      "execution_count": 20,
      "outputs": [
        {
          "output_type": "display_data",
          "data": {
            "image/png": "[encoded data removed]",
            "text/plain": [
              "<Figure size 432x288 with 1 Axes>"
            ]
          },
          "metadata": {
            "tags": []
          }
        }
      ]
    }
  ]
}