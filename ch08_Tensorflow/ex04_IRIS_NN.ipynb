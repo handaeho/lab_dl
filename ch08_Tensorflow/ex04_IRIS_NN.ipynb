{
  "nbformat": 4,
  "nbformat_minor": 0,
  "metadata": {
    "colab": {
      "name": "IRIS_NN.ipynb",
      "provenance": []
    },
    "kernelspec": {
      "name": "python3",
      "display_name": "Python 3"
    },
    "accelerator": "GPU"
  },
  "cells": [
    {
      "cell_type": "code",
      "metadata": {
        "id": "izuIKxTalX92",
        "colab_type": "code",
        "colab": {
          "base_uri": "https://localhost:8080/",
          "height": 35
        },
        "outputId": "48f8f6bb-0c2c-49ec-a4f6-bbf7f9571ac8"
      },
      "source": [
        "# Tensorflow 사용 버전 설정\n",
        "%tensorflow_version 2.x"
      ],
      "execution_count": 1,
      "outputs": [
        {
          "output_type": "stream",
          "text": [
            "TensorFlow 2.x selected.\n"
          ],
          "name": "stdout"
        }
      ]
    },
    {
      "cell_type": "markdown",
      "metadata": {
        "id": "aGM49WyPttBh",
        "colab_type": "text"
      },
      "source": [
        "**1. 로컬 PC에 저장된 CSV 파일을 Google Colab으로 upload**"
      ]
    },
    {
      "cell_type": "code",
      "metadata": {
        "id": "bO-jxfH1mkGV",
        "colab_type": "code",
        "colab": {
          "resources": {
            "http://localhost:8080/nbextensions/google.colab/files.js": {
              "data": "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",
              "ok": true,
              "headers": [
                [
                  "content-type",
                  "application/javascript"
                ]
              ],
              "status": 200,
              "status_text": ""
            }
          },
          "base_uri": "https://localhost:8080/",
          "height": 78
        },
        "outputId": "f80c2971-78af-4f95-aeaa-6f0f6da0e4c7"
      },
      "source": [
        "from google.colab import files\n",
        "\n",
        "uploaded = files.upload()"
      ],
      "execution_count": 3,
      "outputs": [
        {
          "output_type": "display_data",
          "data": {
            "text/html": [
              "\n",
              "     <input type=\"file\" id=\"files-5f1b1946-4480-412a-a3b8-b1c820c16122\" name=\"files[]\" multiple disabled />\n",
              "     <output id=\"result-5f1b1946-4480-412a-a3b8-b1c820c16122\">\n",
              "      Upload widget is only available when the cell has been executed in the\n",
              "      current browser session. Please rerun this cell to enable.\n",
              "      </output>\n",
              "      <script src=\"/nbextensions/google.colab/files.js\"></script> "
            ],
            "text/plain": [
              "<IPython.core.display.HTML object>"
            ]
          },
          "metadata": {
            "tags": []
          }
        },
        {
          "output_type": "stream",
          "text": [
            "Saving Iris.csv to Iris.csv\n"
          ],
          "name": "stdout"
        }
      ]
    },
    {
      "cell_type": "markdown",
      "metadata": {
        "id": "L_oWKBditxpo",
        "colab_type": "text"
      },
      "source": [
        "**2. CSV 파일을 읽고 데이터 프레임 생성**"
      ]
    },
    {
      "cell_type": "code",
      "metadata": {
        "id": "yJtw3a-yrVU2",
        "colab_type": "code",
        "colab": {
          "base_uri": "https://localhost:8080/",
          "height": 287
        },
        "outputId": "c384a89d-6af4-434e-b37a-febeb958f83b"
      },
      "source": [
        "import pandas as pd\n",
        "\n",
        "df = pd.read_csv('./Iris.csv')\n",
        "\n",
        "print(df.shape)\n",
        "print(df)"
      ],
      "execution_count": 100,
      "outputs": [
        {
          "output_type": "stream",
          "text": [
            "(150, 6)\n",
            "      Id  SepalLengthCm  ...  PetalWidthCm         Species\n",
            "0      1            5.1  ...           0.2     Iris-setosa\n",
            "1      2            4.9  ...           0.2     Iris-setosa\n",
            "2      3            4.7  ...           0.2     Iris-setosa\n",
            "3      4            4.6  ...           0.2     Iris-setosa\n",
            "4      5            5.0  ...           0.2     Iris-setosa\n",
            "..   ...            ...  ...           ...             ...\n",
            "145  146            6.7  ...           2.3  Iris-virginica\n",
            "146  147            6.3  ...           1.9  Iris-virginica\n",
            "147  148            6.5  ...           2.0  Iris-virginica\n",
            "148  149            6.2  ...           2.3  Iris-virginica\n",
            "149  150            5.9  ...           1.8  Iris-virginica\n",
            "\n",
            "[150 rows x 6 columns]\n"
          ],
          "name": "stdout"
        }
      ]
    },
    {
      "cell_type": "markdown",
      "metadata": {
        "id": "pzEBQYqct3af",
        "colab_type": "text"
      },
      "source": [
        "**3. 데이터 전처리**"
      ]
    },
    {
      "cell_type": "code",
      "metadata": {
        "id": "8nvPkXnrsdl2",
        "colab_type": "code",
        "colab": {
          "base_uri": "https://localhost:8080/",
          "height": 737
        },
        "outputId": "de3a96fe-ceb8-4790-c670-874963b73e91"
      },
      "source": [
        "# 1) ID 컬럼 삭제\n",
        "df = df.iloc[:, 1:6]\n",
        "print(df)\n",
        "\n",
        "# 2) pasndas.DataFrame -> numpy.ndarray로 변환\n",
        "dataset = df.to_numpy()\n",
        "print(type(dataset), dataset.shape)\n",
        "\n",
        "# 3) 데이터(SL, SW, PL, PW)와 레이블(품종)을 분리\n",
        "X = dataset[:, :-1].astype('float16')\n",
        "Y = dataset[:, -1]\n",
        "print(f'X: {X.shape}, Y: {Y.shape}')\n",
        "print(X[:5])\n",
        "print(Y[:5])\n",
        "\n",
        "# 4) encoding \n",
        "# 레이블 데이터 타입을 문자열(setosa, versicolor, virginica)에서 숫자(0, 1, 2)로 변환\n",
        "encoder = LabelEncoder()  # sklearn.preprocessing\n",
        "encoder.fit(Y)\n",
        "Y = encoder.transform(Y)\n",
        "print(Y[:5])\n",
        "\n",
        "# one-hot-encoding\n",
        "Y = to_categorical(Y, 3, dtype='float16')  # tensorflow.keras.utils\n",
        "print(Y[:5])\n",
        "\n",
        "# 5) 학습 데이터 셋 / 테스트 데이터 셋 분할\n",
        "from sklearn.model_selection import train_test_split\n",
        "\n",
        "X_train, X_test, Y_train, Y_test = train_test_split(X, Y, test_size=0.3)\n",
        "\n",
        "print(f'X_train: {X_train.shape}, Y_train: {Y_train.shape}')\n",
        "print(f'X_test: {X_test.shape}, Y_test: {Y_test.shape}')\n",
        "print(X_train[:5])\n",
        "print(Y_train[:5])"
      ],
      "execution_count": 101,
      "outputs": [
        {
          "output_type": "stream",
          "text": [
            "     SepalLengthCm  SepalWidthCm  PetalLengthCm  PetalWidthCm         Species\n",
            "0              5.1           3.5            1.4           0.2     Iris-setosa\n",
            "1              4.9           3.0            1.4           0.2     Iris-setosa\n",
            "2              4.7           3.2            1.3           0.2     Iris-setosa\n",
            "3              4.6           3.1            1.5           0.2     Iris-setosa\n",
            "4              5.0           3.6            1.4           0.2     Iris-setosa\n",
            "..             ...           ...            ...           ...             ...\n",
            "145            6.7           3.0            5.2           2.3  Iris-virginica\n",
            "146            6.3           2.5            5.0           1.9  Iris-virginica\n",
            "147            6.5           3.0            5.2           2.0  Iris-virginica\n",
            "148            6.2           3.4            5.4           2.3  Iris-virginica\n",
            "149            5.9           3.0            5.1           1.8  Iris-virginica\n",
            "\n",
            "[150 rows x 5 columns]\n",
            "<class 'numpy.ndarray'> (150, 5)\n",
            "X: (150, 4), Y: (150,)\n",
            "[[5.1 3.5 1.4 0.2]\n",
            " [4.9 3.  1.4 0.2]\n",
            " [4.7 3.2 1.3 0.2]\n",
            " [4.6 3.1 1.5 0.2]\n",
            " [5.  3.6 1.4 0.2]]\n",
            "['Iris-setosa' 'Iris-setosa' 'Iris-setosa' 'Iris-setosa' 'Iris-setosa']\n",
            "[0 0 0 0 0]\n",
            "[[1. 0. 0.]\n",
            " [1. 0. 0.]\n",
            " [1. 0. 0.]\n",
            " [1. 0. 0.]\n",
            " [1. 0. 0.]]\n",
            "X_train: (105, 4), Y_train: (105, 3)\n",
            "X_test: (45, 4), Y_test: (45, 3)\n",
            "[[6.7 3.1 4.7 1.5]\n",
            " [5.  3.6 1.4 0.2]\n",
            " [5.5 4.2 1.4 0.2]\n",
            " [5.  3.  1.6 0.2]\n",
            " [6.8 3.2 5.9 2.3]]\n",
            "[[0. 1. 0.]\n",
            " [1. 0. 0.]\n",
            " [1. 0. 0.]\n",
            " [1. 0. 0.]\n",
            " [0. 0. 1.]]\n"
          ],
          "name": "stdout"
        }
      ]
    },
    {
      "cell_type": "markdown",
      "metadata": {
        "id": "cO7sneI_t7q4",
        "colab_type": "text"
      },
      "source": [
        "**4. 신경망 모델 생성**"
      ]
    },
    {
      "cell_type": "code",
      "metadata": {
        "id": "ZeNrXayUt_zv",
        "colab_type": "code",
        "colab": {}
      },
      "source": [
        "# 클래스와 모듈 import\n",
        "import os\n",
        "import numpy as np\n",
        "import matplotlib.pyplot as plt\n",
        "\n",
        "from tensorflow.keras import Sequential\n",
        "from tensorflow.keras.datasets import mnist\n",
        "from tensorflow.keras.layers import Conv2D, MaxPool2D, Dropout, Flatten, Dense\n",
        "from tensorflow.keras.utils import to_categorical\n",
        "from tensorflow.keras.callbacks import EarlyStopping, ModelCheckpoint\n",
        "\n",
        "# hidden_layer Dense(16, relu) -> output_layer Dense(3, softmax)\n",
        "model = Sequential()\n",
        "\n",
        "model.add(Dense(16, activation='relu', input_dim=4))\n",
        "\n",
        "model.add(Dense(3, activation='softmax'))"
      ],
      "execution_count": 0,
      "outputs": []
    },
    {
      "cell_type": "markdown",
      "metadata": {
        "id": "BvPpQw7YuI0Y",
        "colab_type": "text"
      },
      "source": [
        "**5. 신경망 학습**"
      ]
    },
    {
      "cell_type": "code",
      "metadata": {
        "id": "1PiIq0F6uLDv",
        "colab_type": "code",
        "colab": {
          "base_uri": "https://localhost:8080/",
          "height": 1000
        },
        "outputId": "dc90792f-8d06-4c17-95ab-4af1d1f507bd"
      },
      "source": [
        "# 신경망 모델 컴파일\n",
        "model.compile(loss='categorical_crossentropy', \n",
        "              optimizer='adam', \n",
        "              metrics=['accuracy'])\n",
        "\n",
        "# 일정 횟수동안 학습의 성과가 없으면 자동으로 stop\n",
        "early_stop = EarlyStopping(monitor='val_loss', verbose=1, patience=10)\n",
        "\n",
        "# 신경망 모델 학습 진행(fit)\n",
        "history = model.fit(X_train, Y_train, batch_size=1, epochs=50,\n",
        "          validation_data=(X_test, Y_test))"
      ],
      "execution_count": 103,
      "outputs": [
        {
          "output_type": "stream",
          "text": [
            "Train on 105 samples, validate on 45 samples\n",
            "Epoch 1/50\n",
            "105/105 [==============================] - 1s 6ms/sample - loss: 2.1501 - accuracy: 0.3048 - val_loss: 1.0932 - val_accuracy: 0.4000\n",
            "Epoch 2/50\n",
            "105/105 [==============================] - 0s 3ms/sample - loss: 0.7736 - accuracy: 0.6762 - val_loss: 0.6730 - val_accuracy: 0.7111\n",
            "Epoch 3/50\n",
            "105/105 [==============================] - 0s 3ms/sample - loss: 0.6008 - accuracy: 0.7714 - val_loss: 0.6375 - val_accuracy: 0.7556\n",
            "Epoch 4/50\n",
            "105/105 [==============================] - 0s 3ms/sample - loss: 0.5495 - accuracy: 0.9333 - val_loss: 0.5921 - val_accuracy: 0.6889\n",
            "Epoch 5/50\n",
            "105/105 [==============================] - 0s 3ms/sample - loss: 0.5125 - accuracy: 0.8190 - val_loss: 0.5477 - val_accuracy: 0.8667\n",
            "Epoch 6/50\n",
            "105/105 [==============================] - 0s 3ms/sample - loss: 0.4637 - accuracy: 0.8857 - val_loss: 0.5220 - val_accuracy: 0.8222\n",
            "Epoch 7/50\n",
            "105/105 [==============================] - 0s 3ms/sample - loss: 0.4474 - accuracy: 0.8571 - val_loss: 0.5062 - val_accuracy: 0.7333\n",
            "Epoch 8/50\n",
            "105/105 [==============================] - 0s 3ms/sample - loss: 0.4130 - accuracy: 0.8952 - val_loss: 0.4802 - val_accuracy: 0.8889\n",
            "Epoch 9/50\n",
            "105/105 [==============================] - 0s 3ms/sample - loss: 0.3906 - accuracy: 0.8952 - val_loss: 0.4654 - val_accuracy: 0.8667\n",
            "Epoch 10/50\n",
            "105/105 [==============================] - 0s 3ms/sample - loss: 0.3737 - accuracy: 0.9714 - val_loss: 0.4620 - val_accuracy: 0.7333\n",
            "Epoch 11/50\n",
            "105/105 [==============================] - 0s 3ms/sample - loss: 0.3640 - accuracy: 0.9524 - val_loss: 0.4491 - val_accuracy: 0.7556\n",
            "Epoch 12/50\n",
            "105/105 [==============================] - 0s 3ms/sample - loss: 0.3390 - accuracy: 0.9333 - val_loss: 0.4205 - val_accuracy: 0.9111\n",
            "Epoch 13/50\n",
            "105/105 [==============================] - 0s 3ms/sample - loss: 0.3315 - accuracy: 0.9524 - val_loss: 0.4307 - val_accuracy: 0.7778\n",
            "Epoch 14/50\n",
            "105/105 [==============================] - 0s 3ms/sample - loss: 0.3262 - accuracy: 0.9429 - val_loss: 0.4218 - val_accuracy: 0.7778\n",
            "Epoch 15/50\n",
            "105/105 [==============================] - 0s 3ms/sample - loss: 0.3096 - accuracy: 0.9238 - val_loss: 0.3859 - val_accuracy: 0.9333\n",
            "Epoch 16/50\n",
            "105/105 [==============================] - 0s 3ms/sample - loss: 0.2942 - accuracy: 0.9714 - val_loss: 0.3760 - val_accuracy: 0.9111\n",
            "Epoch 17/50\n",
            "105/105 [==============================] - 0s 3ms/sample - loss: 0.2847 - accuracy: 0.9619 - val_loss: 0.3679 - val_accuracy: 0.9111\n",
            "Epoch 18/50\n",
            "105/105 [==============================] - 0s 3ms/sample - loss: 0.2755 - accuracy: 0.9524 - val_loss: 0.3698 - val_accuracy: 0.8889\n",
            "Epoch 19/50\n",
            "105/105 [==============================] - 0s 3ms/sample - loss: 0.2690 - accuracy: 0.9810 - val_loss: 0.3625 - val_accuracy: 0.8889\n",
            "Epoch 20/50\n",
            "105/105 [==============================] - 0s 3ms/sample - loss: 0.2542 - accuracy: 0.9619 - val_loss: 0.3438 - val_accuracy: 0.9111\n",
            "Epoch 21/50\n",
            "105/105 [==============================] - 0s 3ms/sample - loss: 0.2491 - accuracy: 0.9714 - val_loss: 0.3398 - val_accuracy: 0.9111\n",
            "Epoch 22/50\n",
            "105/105 [==============================] - 0s 3ms/sample - loss: 0.2470 - accuracy: 0.9619 - val_loss: 0.3433 - val_accuracy: 0.8667\n",
            "Epoch 23/50\n",
            "105/105 [==============================] - 0s 3ms/sample - loss: 0.2326 - accuracy: 0.9619 - val_loss: 0.3333 - val_accuracy: 0.9111\n",
            "Epoch 24/50\n",
            "105/105 [==============================] - 0s 3ms/sample - loss: 0.2212 - accuracy: 0.9714 - val_loss: 0.3068 - val_accuracy: 0.9333\n",
            "Epoch 25/50\n",
            "105/105 [==============================] - 0s 3ms/sample - loss: 0.2209 - accuracy: 0.9714 - val_loss: 0.3056 - val_accuracy: 0.9111\n",
            "Epoch 26/50\n",
            "105/105 [==============================] - 0s 3ms/sample - loss: 0.2226 - accuracy: 0.9524 - val_loss: 0.3268 - val_accuracy: 0.8667\n",
            "Epoch 27/50\n",
            "105/105 [==============================] - 0s 3ms/sample - loss: 0.1983 - accuracy: 1.0000 - val_loss: 0.3070 - val_accuracy: 0.9111\n",
            "Epoch 28/50\n",
            "105/105 [==============================] - 0s 3ms/sample - loss: 0.1931 - accuracy: 0.9810 - val_loss: 0.3212 - val_accuracy: 0.8667\n",
            "Epoch 29/50\n",
            "105/105 [==============================] - 0s 3ms/sample - loss: 0.1904 - accuracy: 0.9810 - val_loss: 0.3100 - val_accuracy: 0.8889\n",
            "Epoch 30/50\n",
            "105/105 [==============================] - 0s 3ms/sample - loss: 0.1839 - accuracy: 0.9810 - val_loss: 0.2872 - val_accuracy: 0.9111\n",
            "Epoch 31/50\n",
            "105/105 [==============================] - 0s 3ms/sample - loss: 0.1733 - accuracy: 0.9905 - val_loss: 0.2925 - val_accuracy: 0.9111\n",
            "Epoch 32/50\n",
            "105/105 [==============================] - 0s 3ms/sample - loss: 0.1701 - accuracy: 0.9714 - val_loss: 0.2620 - val_accuracy: 0.9333\n",
            "Epoch 33/50\n",
            "105/105 [==============================] - 0s 3ms/sample - loss: 0.1684 - accuracy: 0.9714 - val_loss: 0.2483 - val_accuracy: 0.9333\n",
            "Epoch 34/50\n",
            "105/105 [==============================] - 0s 3ms/sample - loss: 0.1532 - accuracy: 0.9905 - val_loss: 0.2988 - val_accuracy: 0.8667\n",
            "Epoch 35/50\n",
            "105/105 [==============================] - 0s 3ms/sample - loss: 0.1535 - accuracy: 0.9810 - val_loss: 0.2618 - val_accuracy: 0.9111\n",
            "Epoch 36/50\n",
            "105/105 [==============================] - 0s 3ms/sample - loss: 0.1464 - accuracy: 0.9810 - val_loss: 0.2599 - val_accuracy: 0.9111\n",
            "Epoch 37/50\n",
            "105/105 [==============================] - 0s 4ms/sample - loss: 0.1431 - accuracy: 0.9905 - val_loss: 0.2401 - val_accuracy: 0.9333\n",
            "Epoch 38/50\n",
            "105/105 [==============================] - 0s 3ms/sample - loss: 0.1422 - accuracy: 0.9905 - val_loss: 0.2572 - val_accuracy: 0.9111\n",
            "Epoch 39/50\n",
            "105/105 [==============================] - 0s 3ms/sample - loss: 0.1307 - accuracy: 0.9905 - val_loss: 0.2204 - val_accuracy: 0.9556\n",
            "Epoch 40/50\n",
            "105/105 [==============================] - 0s 3ms/sample - loss: 0.1356 - accuracy: 0.9905 - val_loss: 0.2325 - val_accuracy: 0.9333\n",
            "Epoch 41/50\n",
            "105/105 [==============================] - 0s 3ms/sample - loss: 0.1206 - accuracy: 1.0000 - val_loss: 0.3102 - val_accuracy: 0.8444\n",
            "Epoch 42/50\n",
            "105/105 [==============================] - 0s 3ms/sample - loss: 0.1255 - accuracy: 0.9810 - val_loss: 0.2311 - val_accuracy: 0.9111\n",
            "Epoch 43/50\n",
            "105/105 [==============================] - 0s 3ms/sample - loss: 0.1206 - accuracy: 0.9905 - val_loss: 0.2412 - val_accuracy: 0.9111\n",
            "Epoch 44/50\n",
            "105/105 [==============================] - 0s 3ms/sample - loss: 0.1207 - accuracy: 0.9905 - val_loss: 0.2840 - val_accuracy: 0.8889\n",
            "Epoch 45/50\n",
            "105/105 [==============================] - 0s 3ms/sample - loss: 0.1220 - accuracy: 0.9810 - val_loss: 0.2362 - val_accuracy: 0.9111\n",
            "Epoch 46/50\n",
            "105/105 [==============================] - 0s 3ms/sample - loss: 0.1154 - accuracy: 0.9810 - val_loss: 0.2263 - val_accuracy: 0.9111\n",
            "Epoch 47/50\n",
            "105/105 [==============================] - 0s 3ms/sample - loss: 0.1089 - accuracy: 0.9810 - val_loss: 0.2652 - val_accuracy: 0.8889\n",
            "Epoch 48/50\n",
            "105/105 [==============================] - 0s 3ms/sample - loss: 0.1111 - accuracy: 0.9905 - val_loss: 0.2054 - val_accuracy: 0.9333\n",
            "Epoch 49/50\n",
            "105/105 [==============================] - 0s 3ms/sample - loss: 0.1088 - accuracy: 0.9810 - val_loss: 0.1994 - val_accuracy: 0.9333\n",
            "Epoch 50/50\n",
            "105/105 [==============================] - 0s 3ms/sample - loss: 0.1053 - accuracy: 1.0000 - val_loss: 0.2065 - val_accuracy: 0.9333\n"
          ],
          "name": "stdout"
        }
      ]
    },
    {
      "cell_type": "markdown",
      "metadata": {
        "id": "XJyyIwHNuLcX",
        "colab_type": "text"
      },
      "source": [
        "**6. 테스트 데이터로 평가**"
      ]
    },
    {
      "cell_type": "code",
      "metadata": {
        "id": "NXxvzi6TuOYg",
        "colab_type": "code",
        "colab": {
          "base_uri": "https://localhost:8080/",
          "height": 53
        },
        "outputId": "ffed2b5c-274a-4c39-f25e-cd0d20d83eb5"
      },
      "source": [
        "eval = model.evaluate(X_test, Y_test)\n",
        "print(f'X_test Loss: {eval[0]}, X_test Accuracy: {eval[1]}')"
      ],
      "execution_count": 104,
      "outputs": [
        {
          "output_type": "stream",
          "text": [
            "45/45 [==============================] - 0s 2ms/sample - loss: 0.2065 - accuracy: 0.9333\n",
            "X_test Loss: 0.2065234621365865, X_test Accuracy: 0.9333333373069763\n"
          ],
          "name": "stdout"
        }
      ]
    },
    {
      "cell_type": "markdown",
      "metadata": {
        "id": "vOfZ8iF_uOjn",
        "colab_type": "text"
      },
      "source": [
        "**7. Loss / Accuracy 그래프로 모델 성능 시각화**"
      ]
    },
    {
      "cell_type": "code",
      "metadata": {
        "id": "WPdilGGuuUQH",
        "colab_type": "code",
        "colab": {
          "base_uri": "https://localhost:8080/",
          "height": 517
        },
        "outputId": "7c14cc88-5392-4cbf-9f4c-bfcbb0716eac"
      },
      "source": [
        "# Loss/Accuracy vs Epoch plot\n",
        "x = range(50)  # epoch\n",
        "train_loss = history.history['loss']\n",
        "test_loss = history.history['val_loss']\n",
        "plt.plot(x, train_loss, c='blue', marker='.', label='Train loss')\n",
        "plt.plot(x, test_loss, c='red', marker='.', label='Test loss')\n",
        "plt.legend()\n",
        "plt.show()\n",
        "\n",
        "train_acc = history.history['accuracy']\n",
        "test_acc = history.history['val_accuracy']\n",
        "plt.plot(x, train_acc, c='blue', marker='.', label='Train accuracy')\n",
        "plt.plot(x, test_acc, c='red', marker='.', label='Test accuracy')\n",
        "plt.legend()\n",
        "plt.show()"
      ],
      "execution_count": 105,
      "outputs": [
        {
          "output_type": "display_data",
          "data": {
            "image/png": "[encoded data removed]",
            "text/plain": [
              "<Figure size 432x288 with 1 Axes>"
            ]
          },
          "metadata": {
            "tags": []
          }
        },
        {
          "output_type": "display_data",
          "data": {
            "image/png": "[encoded data removed]",
            "text/plain": [
              "<Figure size 432x288 with 1 Axes>"
            ]
          },
          "metadata": {
            "tags": []
          }
        }
      ]
    },
    {
      "cell_type": "markdown",
      "metadata": {
        "id": "PPj0vYXrDKy2",
        "colab_type": "text"
      },
      "source": [
        "**8. confusion matrix & classification report**"
      ]
    },
    {
      "cell_type": "code",
      "metadata": {
        "id": "wLIXcetKDOVs",
        "colab_type": "code",
        "colab": {
          "base_uri": "https://localhost:8080/",
          "height": 323
        },
        "outputId": "f568b25a-8bbe-4df9-bb53-6d26b00df4ae"
      },
      "source": [
        "from sklearn.metrics import confusion_matrix, classification_report\n",
        "\n",
        "y_true = np.argmax(Y_test, axis=1)\n",
        "print(y_true)\n",
        "\n",
        "y_pred = np.argmax(model.predict(X_test), axis=1)\n",
        "print(y_pred)\n",
        "\n",
        "cm = confusion_matrix(y_true, y_pred)\n",
        "print(cm)\n",
        "\n",
        "report = classification_report(y_true, y_pred)\n",
        "print(report)"
      ],
      "execution_count": 107,
      "outputs": [
        {
          "output_type": "stream",
          "text": [
            "[2 1 2 0 2 2 1 1 2 1 2 0 2 0 1 1 1 1 0 1 0 0 0 0 0 0 1 1 1 2 2 2 1 1 1 2 1\n",
            " 0 2 2 1 2 2 2 1]\n",
            "[2 1 2 0 2 2 1 2 2 1 2 0 2 0 1 1 1 1 0 1 0 0 0 0 0 0 1 2 1 2 2 2 1 1 1 2 2\n",
            " 0 2 2 1 2 2 2 1]\n",
            "[[11  0  0]\n",
            " [ 0 15  3]\n",
            " [ 0  0 16]]\n",
            "              precision    recall  f1-score   support\n",
            "\n",
            "           0       1.00      1.00      1.00        11\n",
            "           1       1.00      0.83      0.91        18\n",
            "           2       0.84      1.00      0.91        16\n",
            "\n",
            "    accuracy                           0.93        45\n",
            "   macro avg       0.95      0.94      0.94        45\n",
            "weighted avg       0.94      0.93      0.93        45\n",
            "\n"
          ],
          "name": "stdout"
        }
      ]
    }
  ]
}