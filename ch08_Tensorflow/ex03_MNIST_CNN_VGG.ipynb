{
  "nbformat": 4,
  "nbformat_minor": 0,
  "metadata": {
    "colab": {
      "name": "MNIST_CNN_VGG.ipynb",
      "provenance": []
    },
    "kernelspec": {
      "name": "python3",
      "display_name": "Python 3"
    },
    "accelerator": "GPU"
  },
  "cells": [
    {
      "cell_type": "markdown",
      "metadata": {
        "id": "zQPL10jNR2Wb",
        "colab_type": "text"
      },
      "source": [
        "**VGG**\n",
        "\n",
        "Convolution layer와 Pooling layer로 구성되는 기본적인 CNN.<br/>\n",
        "다만, 비중있는 layer(Conv_layer, Fully-connected _layer)를 <br/>\n",
        "모두 16층 또는 19층으로 심화한것이 특징이다. <br/>\n",
        "층의 깊이에 따라 'Vgg16', 'VGG19'로 구분하기도 한다. <br/>\n",
        "\n",
        "<순서>\n",
        "1. GPU 연산 설정\n",
        "2. Tensorflow 버전과 GPU 사용 여부 확인\n",
        "3. MNIST 데이터 로드\n",
        "4. 신경망 생성<br/>\n",
        "    \n",
        "    <구성> <br/>\n",
        "    Conv2D -> Conv2D -> MaxPool2D -> Dropout -> Flatten -> Dense\n",
        "    -> Dropout -> Dense\n",
        "\n",
        "    Conv2D: filter=32, kernel_size=(3, 3), act_fn=relu <br/>\n",
        "    Conv2D: filter=64, kernel_size=(3, 3), act_fn=relu <br/>\n",
        "    Dropout: 비율 0.25(25%) <br/>\n",
        "    Dense:  퍼셉트론 개수=128, act_fn=relu <br/>\n",
        "    Dropout: 비율 0.5(50%) <br/>\n",
        "5. 모델 학습(Fit) \n",
        "6. Epochs-Loss / Epochs-Accuracy 그래프\n"
      ]
    },
    {
      "cell_type": "markdown",
      "metadata": {
        "id": "VGohVwsNTEAr",
        "colab_type": "text"
      },
      "source": [
        "**1. GPU 연산 설정**"
      ]
    },
    {
      "cell_type": "markdown",
      "metadata": {
        "id": "2QBpXgmWTIrh",
        "colab_type": "text"
      },
      "source": [
        "**2. Tensorflow 사용 버전을 설정하고 버전과 GPU 사용 여부 확인**"
      ]
    },
    {
      "cell_type": "code",
      "metadata": {
        "id": "DRVZbtRyRvw8",
        "colab_type": "code",
        "colab": {
          "base_uri": "https://localhost:8080/",
          "height": 71
        },
        "outputId": "bb59fb1e-815a-4244-cffc-e3b5de3e9e1a"
      },
      "source": [
        "%tensorflow_version 2.x\n",
        "\n",
        "import tensorflow as tf\n",
        "\n",
        "print(tf.__version__)\n",
        "print(tf.test.gpu_device_name())\n",
        "\n",
        "# 클래스와 모듈 import\n",
        "import os\n",
        "import numpy as np\n",
        "import matplotlib.pyplot as plt\n",
        "\n",
        "from tensorflow.keras import Sequential\n",
        "from tensorflow.keras.datasets import mnist\n",
        "from tensorflow.keras.layers import Conv2D, MaxPool2D, Dropout, Flatten, Dense\n",
        "from tensorflow.keras.utils import to_categorical\n",
        "from tensorflow.keras.callbacks import EarlyStopping, ModelCheckpoint"
      ],
      "execution_count": 1,
      "outputs": [
        {
          "output_type": "stream",
          "text": [
            "TensorFlow 2.x selected.\n",
            "2.1.0-rc1\n",
            "/device:GPU:0\n"
          ],
          "name": "stdout"
        }
      ]
    },
    {
      "cell_type": "markdown",
      "metadata": {
        "id": "-sCh8FhcToWS",
        "colab_type": "text"
      },
      "source": [
        "**3. MNIST 데이터 load / 확인**"
      ]
    },
    {
      "cell_type": "code",
      "metadata": {
        "id": "mK1K4sW-Tq62",
        "colab_type": "code",
        "colab": {
          "base_uri": "https://localhost:8080/",
          "height": 53
        },
        "outputId": "f4900834-0f75-490d-ce02-6dd0b907095c"
      },
      "source": [
        "(X_train, Y_train), (X_test, Y_test) = mnist.load_data()\n",
        "print(f'X_train shape: {X_train.shape}, Y_train shape: {Y_train.shape}')\n",
        "print(f'X_test shape: {X_test.shape}, Y_test shape: {Y_test.shape}')"
      ],
      "execution_count": 2,
      "outputs": [
        {
          "output_type": "stream",
          "text": [
            "X_train shape: (60000, 28, 28), Y_train shape: (60000,)\n",
            "X_test shape: (10000, 28, 28), Y_test shape: (10000,)\n"
          ],
          "name": "stdout"
        }
      ]
    },
    {
      "cell_type": "code",
      "metadata": {
        "id": "R1Rx9SceU_Mi",
        "colab_type": "code",
        "colab": {
          "base_uri": "https://localhost:8080/",
          "height": 89
        },
        "outputId": "5c4693b8-b0f8-44ba-e691-50e2d4f42f54"
      },
      "source": [
        "# MNIST 데이터를 CNN의 입력 데이터로 사용할 수 있도록 shape 변환\n",
        "\n",
        "# X_train, X_train = (samples, h, w, 1) \n",
        "# ~> samples: 데이터 개수, h: height, w:width\n",
        "n, h, w = X_train.shape\n",
        "X_train = X_train.reshape(*X_train.shape, 1)\n",
        "X_test = X_test.reshape(*X_test.shape, 1)\n",
        "\n",
        "print('X_train reshape: ', X_train.shape)\n",
        "print('X_test reshape: ', X_test.shape)\n",
        "\n",
        "# Y_train, Y_test = one_hot_encoding\n",
        "Y_train = to_categorical(Y_train, 10, dtype='float16')\n",
        "Y_test = to_categorical(Y_test, 10, dtype='float16')\n",
        "\n",
        "print('Y_train[0]: ', Y_train[0])\n",
        "print('Y_test[0]: ', Y_test[0])"
      ],
      "execution_count": 3,
      "outputs": [
        {
          "output_type": "stream",
          "text": [
            "X_train reshape:  (60000, 28, 28, 1)\n",
            "X_test reshape:  (10000, 28, 28, 1)\n",
            "Y_train[0]:  [0. 0. 0. 0. 0. 1. 0. 0. 0. 0.]\n",
            "Y_test[0]:  [0. 0. 0. 0. 0. 0. 0. 1. 0. 0.]\n"
          ],
          "name": "stdout"
        }
      ]
    },
    {
      "cell_type": "code",
      "metadata": {
        "id": "lRo4vJ1fVsPc",
        "colab_type": "code",
        "colab": {}
      },
      "source": [
        "# 이미지 데이터는 0~255 사이의 값들로 저장되어 있다. \n",
        "# 신경망에 보낼 때는 정규화된 값 (0. ~ 1.) 으로 보내면 더 좋은 성능 기대 가능\n",
        "\n",
        "# X_train, X_test를 0 ~ 1 사이의 값으로 정규화\n",
        "X_train = X_train.astype('float16')\n",
        "X_test = X_test.astype('float16')"
      ],
      "execution_count": 0,
      "outputs": []
    },
    {
      "cell_type": "markdown",
      "metadata": {
        "id": "OptYKJjoU0jE",
        "colab_type": "text"
      },
      "source": [
        "**4. 신경망 생성<br/>**\n",
        "\n",
        "  <구성> <br/>\n",
        "    Conv2D -> Conv2D -> MaxPool2D -> Dropout -> Flatten -> Dense\n",
        "    -> Dropout -> Dense\n",
        "\n",
        "  Conv2D: filters=32, kernel_size=(3, 3), act_fn=relu <br/>\n",
        "  Conv2D: filters=64, kernel_size=(3, 3), act_fn=relu <br/>\n",
        "  Dropout: 비율 0.25(25%) <br/>\n",
        "  Dense:  퍼셉트론 개수=128, act_fn=relu <br/>\n",
        "  Dropout: 비율 0.5(50%) <br/>"
      ]
    },
    {
      "cell_type": "code",
      "metadata": {
        "id": "OzYRfPmxU4w6",
        "colab_type": "code",
        "colab": {}
      },
      "source": [
        "# 신경망 모델 생성 -> Sequential 클래스 객체(인스턴스) 생성\n",
        "model = Sequential()"
      ],
      "execution_count": 0,
      "outputs": []
    },
    {
      "cell_type": "code",
      "metadata": {
        "id": "FA0idG4wWJYs",
        "colab_type": "code",
        "colab": {}
      },
      "source": [
        "# Conv2D: filters=32, kernel_size=(3, 3), act_fn=relu\n",
        "model.add(Conv2D(filters=32, kernel_size=(3, 3), activation='relu'))\n",
        "\n",
        "# Conv2D: filters=64, kernel_size=(3, 3), act_fn=relu\n",
        "model.add(Conv2D(filters=64, kernel_size=(3, 3), activation='relu'))\n",
        "\n",
        "# MaxPool2D\n",
        "model.add(MaxPool2D(pool_size=2))\n",
        "\n",
        "# Dropout: 비율 0.25(25%)\n",
        "model.add(Dropout(rate=0.25))\n",
        "\n",
        "# Flatten\n",
        "model.add(Flatten())\n",
        "\n",
        "# Dense: 퍼셉트론 개수=128, act_fn=relu\n",
        "model.add(Dense(128, activation='relu'))\n",
        "\n",
        "# Dropout: 비율 0.5(50%)\n",
        "model.add(Dropout(rate=0.5))\n",
        "\n",
        "# Dense(Output_layer)\n",
        "model.add(Dense(10, activation='softmax'))"
      ],
      "execution_count": 0,
      "outputs": []
    },
    {
      "cell_type": "markdown",
      "metadata": {
        "id": "irYVNjgiX_42",
        "colab_type": "text"
      },
      "source": [
        "**5. 모델 학습(Fit)**"
      ]
    },
    {
      "cell_type": "code",
      "metadata": {
        "id": "aLMO5okcYDZr",
        "colab_type": "code",
        "colab": {
          "base_uri": "https://localhost:8080/",
          "height": 973
        },
        "outputId": "e98e1a92-211e-4261-fafa-e2b95ea686c4"
      },
      "source": [
        "# 신경망 모델 컴파일\n",
        "model.compile(loss='categorical_crossentropy', \n",
        "              optimizer='adam', \n",
        "              metrics=['accuracy'])\n",
        "\n",
        "# 일정 횟수동안 학습의 성과가 없으면 자동으로 stop\n",
        "early_stop = EarlyStopping(monitor='val_loss', verbose=1, patience=10)\n",
        "\n",
        "# 신경망 모델 학습 진행(fit)\n",
        "history = model.fit(X_train, Y_train,\n",
        "                    batch_size=200, epochs=50, verbose=1,\n",
        "                    callbacks=[early_stop],\n",
        "                    validation_data=(X_test, Y_test))"
      ],
      "execution_count": 7,
      "outputs": [
        {
          "output_type": "stream",
          "text": [
            "Train on 60000 samples, validate on 10000 samples\n",
            "Epoch 1/50\n",
            "60000/60000 [==============================] - 11s 178us/sample - loss: 0.8943 - accuracy: 0.8255 - val_loss: 0.0861 - val_accuracy: 0.9733\n",
            "Epoch 2/50\n",
            "60000/60000 [==============================] - 3s 58us/sample - loss: 0.1735 - accuracy: 0.9505 - val_loss: 0.0616 - val_accuracy: 0.9819\n",
            "Epoch 3/50\n",
            "60000/60000 [==============================] - 3s 58us/sample - loss: 0.1282 - accuracy: 0.9632 - val_loss: 0.0502 - val_accuracy: 0.9852\n",
            "Epoch 4/50\n",
            "60000/60000 [==============================] - 3s 58us/sample - loss: 0.1066 - accuracy: 0.9688 - val_loss: 0.0506 - val_accuracy: 0.9858\n",
            "Epoch 5/50\n",
            "60000/60000 [==============================] - 3s 57us/sample - loss: 0.0879 - accuracy: 0.9736 - val_loss: 0.0336 - val_accuracy: 0.9886\n",
            "Epoch 6/50\n",
            "60000/60000 [==============================] - 3s 58us/sample - loss: 0.0763 - accuracy: 0.9775 - val_loss: 0.0395 - val_accuracy: 0.9883\n",
            "Epoch 7/50\n",
            "60000/60000 [==============================] - 3s 58us/sample - loss: 0.0703 - accuracy: 0.9789 - val_loss: 0.0427 - val_accuracy: 0.9872\n",
            "Epoch 8/50\n",
            "60000/60000 [==============================] - 3s 58us/sample - loss: 0.0641 - accuracy: 0.9809 - val_loss: 0.0404 - val_accuracy: 0.9894\n",
            "Epoch 9/50\n",
            "60000/60000 [==============================] - 3s 58us/sample - loss: 0.0554 - accuracy: 0.9833 - val_loss: 0.0321 - val_accuracy: 0.9912\n",
            "Epoch 10/50\n",
            "60000/60000 [==============================] - 3s 58us/sample - loss: 0.0506 - accuracy: 0.9846 - val_loss: 0.0375 - val_accuracy: 0.9901\n",
            "Epoch 11/50\n",
            "60000/60000 [==============================] - 3s 57us/sample - loss: 0.0507 - accuracy: 0.9844 - val_loss: 0.0422 - val_accuracy: 0.9896\n",
            "Epoch 12/50\n",
            "60000/60000 [==============================] - 3s 58us/sample - loss: 0.0456 - accuracy: 0.9859 - val_loss: 0.0360 - val_accuracy: 0.9902\n",
            "Epoch 13/50\n",
            "60000/60000 [==============================] - 3s 58us/sample - loss: 0.0431 - accuracy: 0.9862 - val_loss: 0.0378 - val_accuracy: 0.9899\n",
            "Epoch 14/50\n",
            "60000/60000 [==============================] - 3s 58us/sample - loss: 0.0430 - accuracy: 0.9869 - val_loss: 0.0448 - val_accuracy: 0.9892\n",
            "Epoch 15/50\n",
            "60000/60000 [==============================] - 3s 58us/sample - loss: 0.0425 - accuracy: 0.9869 - val_loss: 0.0320 - val_accuracy: 0.9904\n",
            "Epoch 16/50\n",
            "60000/60000 [==============================] - 3s 58us/sample - loss: 0.0391 - accuracy: 0.9876 - val_loss: 0.0320 - val_accuracy: 0.9907\n",
            "Epoch 17/50\n",
            "60000/60000 [==============================] - 3s 58us/sample - loss: 0.0362 - accuracy: 0.9885 - val_loss: 0.0386 - val_accuracy: 0.9915\n",
            "Epoch 18/50\n",
            "60000/60000 [==============================] - 3s 58us/sample - loss: 0.0355 - accuracy: 0.9887 - val_loss: 0.0387 - val_accuracy: 0.9900\n",
            "Epoch 19/50\n",
            "60000/60000 [==============================] - 3s 58us/sample - loss: 0.0364 - accuracy: 0.9884 - val_loss: 0.0357 - val_accuracy: 0.9905\n",
            "Epoch 20/50\n",
            "60000/60000 [==============================] - 3s 57us/sample - loss: 0.0329 - accuracy: 0.9896 - val_loss: 0.0437 - val_accuracy: 0.9897\n",
            "Epoch 21/50\n",
            "60000/60000 [==============================] - 3s 58us/sample - loss: 0.0312 - accuracy: 0.9899 - val_loss: 0.0397 - val_accuracy: 0.9910\n",
            "Epoch 22/50\n",
            "60000/60000 [==============================] - 3s 57us/sample - loss: 0.0333 - accuracy: 0.9897 - val_loss: 0.0343 - val_accuracy: 0.9916\n",
            "Epoch 23/50\n",
            "60000/60000 [==============================] - 3s 58us/sample - loss: 0.0333 - accuracy: 0.9898 - val_loss: 0.0357 - val_accuracy: 0.9912\n",
            "Epoch 24/50\n",
            "60000/60000 [==============================] - 3s 57us/sample - loss: 0.0294 - accuracy: 0.9910 - val_loss: 0.0347 - val_accuracy: 0.9910\n",
            "Epoch 25/50\n",
            "60000/60000 [==============================] - 3s 58us/sample - loss: 0.0285 - accuracy: 0.9906 - val_loss: 0.0346 - val_accuracy: 0.9915\n",
            "Epoch 00025: early stopping\n"
          ],
          "name": "stdout"
        }
      ]
    },
    {
      "cell_type": "markdown",
      "metadata": {
        "id": "JPR0IgDxZyTE",
        "colab_type": "text"
      },
      "source": [
        "**6. Epochs-Loss / Epochs-Accuracy 그래프**"
      ]
    },
    {
      "cell_type": "code",
      "metadata": {
        "id": "2c2Fp-s_ZyF0",
        "colab_type": "code",
        "colab": {
          "base_uri": "https://localhost:8080/",
          "height": 279
        },
        "outputId": "4240e9b3-94ef-4d8b-d45e-fb8a5662ad8f"
      },
      "source": [
        "# 학습 데이터 셋과 테스트 데이터 셋의 Epochs-Loss 그래프\n",
        "\n",
        "# 학습 데이터 셋의 Loss\n",
        "train_loss = history.history['loss']\n",
        "\n",
        "# 테스트 데이터 셋의 Loss\n",
        "test_loss = history.history['val_loss']\n",
        "\n",
        "x = range(len(train_loss))\n",
        "plt.plot(x, train_loss, marker='.', color='red', label='Train Loss')\n",
        "plt.plot(x, test_loss, marker='.', color='blue', label='Test Loss')\n",
        "plt.xlabel('Epochs')\n",
        "plt.ylabel('Loss')\n",
        "plt.legend()\n",
        "plt.show()"
      ],
      "execution_count": 9,
      "outputs": [
        {
          "output_type": "display_data",
          "data": {
            "image/png": "[encoded data removed]",
            "text/plain": [
              "<Figure size 432x288 with 1 Axes>"
            ]
          },
          "metadata": {
            "tags": []
          }
        }
      ]
    },
    {
      "cell_type": "code",
      "metadata": {
        "id": "pQqAHujib3-L",
        "colab_type": "code",
        "colab": {
          "base_uri": "https://localhost:8080/",
          "height": 279
        },
        "outputId": "a92f88cb-b128-417b-9c98-1793d9b4dff7"
      },
      "source": [
        "# 학습 데이터 셋과 테스트 데이터 셋의 Epochs-Accuracy 그래프\n",
        "\n",
        "# 학습 데이터 셋의 Accuracy\n",
        "train_acc = history.history['accuracy']\n",
        "\n",
        "# 테스트 데이터 셋의 Accuracy\n",
        "test_acc = history.history['val_accuracy']\n",
        "\n",
        "x = range(len(train_acc))\n",
        "plt.plot(x, train_loss, marker='.', color='red', label='Train Loss')\n",
        "plt.plot(x, test_loss, marker='.', color='blue', label='Test Loss')\n",
        "plt.xlabel('Epochs')\n",
        "plt.ylabel('Loss')\n",
        "plt.legend()\n",
        "plt.show()"
      ],
      "execution_count": 11,
      "outputs": [
        {
          "output_type": "display_data",
          "data": {
            "image/png": "[encoded data removed]",
            "text/plain": [
              "<Figure size 432x288 with 1 Axes>"
            ]
          },
          "metadata": {
            "tags": []
          }
        }
      ]
    }
  ]
}